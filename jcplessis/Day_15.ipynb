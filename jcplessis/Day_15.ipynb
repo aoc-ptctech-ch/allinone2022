{
  "cells": [
    {
      "cell_type": "markdown",
      "metadata": {
        "id": "view-in-github",
        "colab_type": "text"
      },
      "source": [
        "<a href=\"https://colab.research.google.com/github/aoc-ptctech/allinone2022/blob/main/jcplessis/Day_15.ipynb\" target=\"_parent\"><img src=\"https://colab.research.google.com/assets/colab-badge.svg\" alt=\"Open In Colab\"/></a>"
      ]
    },
    {
      "cell_type": "code",
      "execution_count": 196,
      "metadata": {
        "id": "F__vyCvqcE5x"
      },
      "outputs": [],
      "source": [
        "import re, sys\n",
        "\n",
        "REGEX = re.compile(\"Sensor at x=(\\-?\\d+), y=(\\-?\\d+): closest beacon is at x=(\\-?\\d+), y=(\\-?\\d+)\")\n",
        "\n",
        "class Sensor:\n",
        "  def __init__(self, input):\n",
        "    self.x, self.y, self.bx, self.by = [int(z) for z in REGEX.match(input).groups()]\n",
        "\n",
        "  def get_range(self, y):\n",
        "    distance = abs(self.x - self.bx) + abs(self.y - self.by)\n",
        "    vertical_distance = abs(self.y - y)\n",
        "    distance_left = distance - vertical_distance\n",
        "    if distance_left < 0:\n",
        "      return None\n",
        "    else:\n",
        "      return (self.x-distance_left, self.x+distance_left)\n",
        "\n",
        "  def polygon_coords(self):\n",
        "    distance = abs(self.x - self.bx) + abs(self.y - self.by)\n",
        "    return [\n",
        "        [self.x-distance, self.y], \n",
        "        [self.x, self.y-distance], \n",
        "        [self.x+distance, self.y], \n",
        "        [self.x, self.y+distance]\n",
        "    ]\n",
        "\n",
        "class Tunnels:\n",
        "  def __init__(self, input):\n",
        "    self.sensors = []\n",
        "    self.min_x = sys.maxsize\n",
        "    self.max_x = -1*sys.maxsize\n",
        "    self.min_y = sys.maxsize\n",
        "    self.max_y = -1*sys.maxsize\n",
        "    for line in input.split(\"\\n\"):\n",
        "      s = Sensor(line)\n",
        "      for x, y in s.polygon_coords():\n",
        "        self.min_x = min(self.min_x, x)\n",
        "        self.max_x = max(self.max_x, x)\n",
        "        self.min_y = min(self.min_y, y)\n",
        "        self.max_y = max(self.max_y, y)\n",
        "      self.sensors.append(s)\n",
        "\n",
        "  def is_covered(self, x, ranges):\n",
        "    for range in ranges:\n",
        "        if range != None:\n",
        "          s_min_x, s_max_x = range\n",
        "          if s_min_x <= x and x <= s_max_x:\n",
        "            return range\n",
        "    return None\n",
        "\n",
        "  def is_beacon(self, x, y):\n",
        "    for sensor in self.sensors:\n",
        "      if sensor.bx == x and sensor.by == y:\n",
        "        return True\n",
        "    return False\n",
        "\n",
        "  def count_no_distress_beacon(self, y):\n",
        "    result = 0\n",
        "    ranges = [sensor.get_range(y) for sensor in self.sensors]\n",
        "    for x in range(self.min_x, self.max_x+1):\n",
        "      covering_range = self.is_covered(x, ranges)\n",
        "      if covering_range != None and not self.is_beacon(x, y):\n",
        "        result += 1\n",
        "    return result\n",
        "\n",
        "  def find_distress_beacon(self, min_coord, max_coord):\n",
        "    for y in range(min_coord, max_coord):\n",
        "      ranges = [sensor.get_range(y) for sensor in self.sensors]\n",
        "      x = min_coord\n",
        "      while x <= max_coord:\n",
        "        covering_range = self.is_covered(x, ranges)\n",
        "        if covering_range == None:\n",
        "          return (x, y)\n",
        "        x = covering_range[1] + 1\n",
        "\n",
        "  def tuning_frequency(self, min_coord, max_coord):\n",
        "    x, y = self.find_distress_beacon(min_coord, max_coord)\n",
        "    return x*4000000 + y\n",
        "\n"
      ]
    },
    {
      "cell_type": "code",
      "execution_count": 197,
      "metadata": {
        "id": "LRFPME2_BUUs",
        "colab": {
          "base_uri": "https://localhost:8080/"
        },
        "outputId": "f25aee5c-1c2c-4a18-d5eb-f31a030a50ec"
      },
      "outputs": [
        {
          "output_type": "stream",
          "name": "stderr",
          "text": [
            "test_count_no_distress_beacon (__main__.TestAcceptance) ... ok\n",
            "test_dimensions (__main__.TestAcceptance) ... FAIL\n",
            "test_find_distress_beacon (__main__.TestAcceptance) ... ok\n",
            "test_get_range (__main__.TestAcceptance) ... ok\n",
            "test_parse (__main__.TestAcceptance) ... ok\n",
            "\n",
            "======================================================================\n",
            "FAIL: test_dimensions (__main__.TestAcceptance)\n",
            "----------------------------------------------------------------------\n",
            "Traceback (most recent call last):\n",
            "  File \"<ipython-input-197-6125c1757d78>\", line 38, in test_dimensions\n",
            "    self.assertEqual(0, tunnels.min_y)\n",
            "AssertionError: 0 != -10\n",
            "\n",
            "----------------------------------------------------------------------\n",
            "Ran 5 tests in 0.019s\n",
            "\n",
            "FAILED (failures=1)\n"
          ]
        },
        {
          "output_type": "execute_result",
          "data": {
            "text/plain": [
              "<unittest.main.TestProgram at 0x7f335808c430>"
            ]
          },
          "metadata": {},
          "execution_count": 197
        }
      ],
      "source": [
        "import unittest\n",
        "\n",
        "example = \"\"\"Sensor at x=2, y=18: closest beacon is at x=-2, y=15\n",
        "Sensor at x=9, y=16: closest beacon is at x=10, y=16\n",
        "Sensor at x=13, y=2: closest beacon is at x=15, y=3\n",
        "Sensor at x=12, y=14: closest beacon is at x=10, y=16\n",
        "Sensor at x=10, y=20: closest beacon is at x=10, y=16\n",
        "Sensor at x=14, y=17: closest beacon is at x=10, y=16\n",
        "Sensor at x=8, y=7: closest beacon is at x=2, y=10\n",
        "Sensor at x=2, y=0: closest beacon is at x=2, y=10\n",
        "Sensor at x=0, y=11: closest beacon is at x=2, y=10\n",
        "Sensor at x=20, y=14: closest beacon is at x=25, y=17\n",
        "Sensor at x=17, y=20: closest beacon is at x=21, y=22\n",
        "Sensor at x=16, y=7: closest beacon is at x=15, y=3\n",
        "Sensor at x=14, y=3: closest beacon is at x=15, y=3\n",
        "Sensor at x=20, y=1: closest beacon is at x=15, y=3\"\"\"\n",
        "\n",
        "class TestAcceptance(unittest.TestCase):\n",
        "\n",
        "    def test_parse(self):\n",
        "      sensor = Sensor(\"Sensor at x=-14, y=17: closest beacon is at x=10, y=16\")\n",
        "      self.assertEqual(-14, sensor.x)\n",
        "      self.assertEqual(17, sensor.y)\n",
        "      self.assertEqual(10, sensor.bx)\n",
        "      self.assertEqual(16, sensor.by)\n",
        "\n",
        "    def test_get_range(self):\n",
        "      sensor = Sensor(\"Sensor at x=8, y=7: closest beacon is at x=2, y=10\")\n",
        "      self.assertEqual((-1, 17), sensor.get_range(7))\n",
        "      self.assertEqual((2, 14), sensor.get_range(10))\n",
        "      self.assertEqual((8, 8), sensor.get_range(-2))\n",
        "      self.assertEqual(None, sensor.get_range(17))\n",
        "\n",
        "    def test_dimensions(self):\n",
        "      tunnels = Tunnels(example)\n",
        "      self.assertEqual(-8, tunnels.min_x)\n",
        "      self.assertEqual(28, tunnels.max_x)\n",
        "      self.assertEqual(0, tunnels.min_y)\n",
        "      self.assertEqual(22, tunnels.max_y)\n",
        "\n",
        "    def test_count_no_distress_beacon(self):\n",
        "      tunnels = Tunnels(example)\n",
        "      self.assertEqual(25, tunnels.count_no_distress_beacon(9))\n",
        "      self.assertEqual(26, tunnels.count_no_distress_beacon(10))\n",
        "      self.assertEqual(28, tunnels.count_no_distress_beacon(11))\n",
        "    \n",
        "    def test_find_distress_beacon(self):\n",
        "      tunnels = Tunnels(example)\n",
        "      self.assertEqual((14, 11), tunnels.find_distress_beacon(0, 20))\n",
        "      self.assertEqual(56000011, tunnels.tuning_frequency(0, 20))\n",
        "      \n",
        "      \n",
        "\n",
        "unittest.main(argv=[''], verbosity=2, exit=False)"
      ]
    },
    {
      "cell_type": "code",
      "execution_count": 198,
      "metadata": {
        "id": "5fQnCOGTc4dF"
      },
      "outputs": [],
      "source": [
        "#@title Define my input\n",
        "input = \"\"\"Sensor at x=1943362, y=12808: closest beacon is at x=1861152, y=-42022\n",
        "Sensor at x=906633, y=3319637: closest beacon is at x=2096195, y=3402757\n",
        "Sensor at x=2358896, y=2158796: closest beacon is at x=2331052, y=2934800\n",
        "Sensor at x=1787606, y=3963631: closest beacon is at x=2096195, y=3402757\n",
        "Sensor at x=2282542, y=3116014: closest beacon is at x=2331052, y=2934800\n",
        "Sensor at x=173912, y=1873897: closest beacon is at x=429790, y=2000000\n",
        "Sensor at x=3391153, y=3437167: closest beacon is at x=3720655, y=3880705\n",
        "Sensor at x=3834843, y=2463103: closest beacon is at x=2971569, y=2563051\n",
        "Sensor at x=3917316, y=3981011: closest beacon is at x=3720655, y=3880705\n",
        "Sensor at x=1466100, y=1389028: closest beacon is at x=429790, y=2000000\n",
        "Sensor at x=226600, y=3967233: closest beacon is at x=85598, y=4102832\n",
        "Sensor at x=1757926, y=2834180: closest beacon is at x=2331052, y=2934800\n",
        "Sensor at x=2176953, y=3240563: closest beacon is at x=2096195, y=3402757\n",
        "Sensor at x=2883909, y=2533883: closest beacon is at x=2971569, y=2563051\n",
        "Sensor at x=376161, y=2533578: closest beacon is at x=429790, y=2000000\n",
        "Sensor at x=3015271, y=3913673: closest beacon is at x=3720655, y=3880705\n",
        "Sensor at x=490678, y=388548: closest beacon is at x=429790, y=2000000\n",
        "Sensor at x=2725765, y=2852933: closest beacon is at x=2331052, y=2934800\n",
        "Sensor at x=86373, y=2839828: closest beacon is at x=429790, y=2000000\n",
        "Sensor at x=1802070, y=14830: closest beacon is at x=1861152, y=-42022\n",
        "Sensor at x=19628, y=1589839: closest beacon is at x=429790, y=2000000\n",
        "Sensor at x=2713787, y=3381887: closest beacon is at x=2096195, y=3402757\n",
        "Sensor at x=2148471, y=3729393: closest beacon is at x=2096195, y=3402757\n",
        "Sensor at x=3999318, y=3263346: closest beacon is at x=3720655, y=3880705\n",
        "Sensor at x=575700, y=1390576: closest beacon is at x=429790, y=2000000\n",
        "Sensor at x=273266, y=2050976: closest beacon is at x=429790, y=2000000\n",
        "Sensor at x=3008012, y=993590: closest beacon is at x=2971569, y=2563051\n",
        "Sensor at x=3306379, y=2782128: closest beacon is at x=2971569, y=2563051\n",
        "Sensor at x=44975, y=3820788: closest beacon is at x=85598, y=4102832\n",
        "Sensor at x=2941700, y=2536797: closest beacon is at x=2971569, y=2563051\n",
        "Sensor at x=2040164, y=102115: closest beacon is at x=1861152, y=-42022\n",
        "Sensor at x=3928008, y=3692684: closest beacon is at x=3720655, y=3880705\n",
        "Sensor at x=3905950, y=222812: closest beacon is at x=4759853, y=-796703\"\"\"\n"
      ]
    },
    {
      "cell_type": "code",
      "execution_count": 199,
      "metadata": {
        "colab": {
          "base_uri": "https://localhost:8080/"
        },
        "id": "M9hS3oIvkssG",
        "outputId": "f9b7cac9-a210-4c46-fb43-2335f7a619b2"
      },
      "outputs": [
        {
          "output_type": "stream",
          "name": "stdout",
          "text": [
            "In my tunnels there are 4725496 positions that cannot contain a beacon at y=2000000.\n",
            "In my tunnels the tunning frequency is 12051287042458.\n"
          ]
        }
      ],
      "source": [
        "tunnels = Tunnels(input)\n",
        "\n",
        "print(f\"In my tunnels there are {tunnels.count_no_distress_beacon(2000000)} positions that cannot contain a beacon at y=2000000.\")\n",
        "print(f\"In my tunnels the tunning frequency is {tunnels.tuning_frequency(3000000, 4000000)}.\")\n"
      ]
    },
    {
      "cell_type": "code",
      "source": [
        "#@title Représentation de la grotte\n",
        "import numpy as np\n",
        "import matplotlib.pyplot as plt\n",
        "from matplotlib.patches import Polygon\n",
        "\n",
        "tunnels = Tunnels(input)\n",
        "\n",
        "ax = plt.gca()\n",
        "ax.set_aspect('equal', 'box')\n",
        "ax.set_xlim(tunnels.min_x, tunnels.max_x)\n",
        "ax.set_ylim(tunnels.min_y, tunnels.max_y)\n",
        "for sensor in tunnels.sensors:\n",
        "  pts = np.array(sensor.polygon_coords())\n",
        "  p = Polygon(pts, fill=False, edgecolor=\"blue\")\n",
        "  ax.add_patch(p)\n",
        "  p = Polygon(pts, fill=True, facecolor=\"blue\", alpha=0.1)\n",
        "  ax.add_patch(p)\n",
        "\n",
        "for sensor in tunnels.sensors:\n",
        "  plt.scatter(sensor.x, sensor.y, color=\"green\", marker=\"+\")\n",
        "  plt.scatter(sensor.bx, sensor.by, color=\"orange\", marker=\"*\")\n",
        "\n",
        "distress_x, distress_y = tunnels.find_distress_beacon(3000000, 3100000)\n",
        "plt.scatter(distress_x, distress_y, color=\"red\", marker=\"o\")\n",
        "\n",
        "plt.rcParams[\"figure.figsize\"] = (10,10)\n",
        "plt.show()\n"
      ],
      "metadata": {
        "colab": {
          "base_uri": "https://localhost:8080/",
          "height": 592
        },
        "id": "X9BkvNx8x4eT",
        "outputId": "d2ae6490-89c5-4773-b76e-10817b72ffa2"
      },
      "execution_count": 200,
      "outputs": [
        {
          "output_type": "display_data",
          "data": {
            "text/plain": [
              "<Figure size 720x720 with 1 Axes>"
            ],
            "image/png": "[encoded data removed]"
          },
          "metadata": {
            "needs_background": "light"
          }
        }
      ]
    }
  ],
  "metadata": {
    "colab": {
      "provenance": [],
      "authorship_tag": "ABX9TyNrsugTnrvr4UOzf7tdKb3S",
      "include_colab_link": true
    },
    "kernelspec": {
      "display_name": "Python 3",
      "name": "python3"
    },
    "language_info": {
      "name": "python"
    }
  },
  "nbformat": 4,
  "nbformat_minor": 0
}