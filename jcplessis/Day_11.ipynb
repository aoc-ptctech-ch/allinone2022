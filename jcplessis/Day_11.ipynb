{
  "cells": [
    {
      "cell_type": "markdown",
      "metadata": {
        "id": "view-in-github",
        "colab_type": "text"
      },
      "source": [
        "<a href=\"https://colab.research.google.com/github/aoc-ptctech/allinone2022/blob/main/jcplessis/Day_11.ipynb\" target=\"_parent\"><img src=\"https://colab.research.google.com/assets/colab-badge.svg\" alt=\"Open In Colab\"/></a>"
      ]
    },
    {
      "cell_type": "code",
      "execution_count": 17,
      "metadata": {
        "id": "F__vyCvqcE5x"
      },
      "outputs": [],
      "source": [
        "import math\n",
        "\n",
        "class Monkey:\n",
        "  def __init__(self, input):\n",
        "    items, operation, test, if_true, if_false = [line.split(\": \")[1] for line in input.split(\"\\n\")[1:]]\n",
        "    self.items = [int(item) for item in items.split(\", \")]\n",
        "    self.operation = operation.split(\" = \")[1]\n",
        "    self.test_dividable_by = int(test.split(\" \")[-1])\n",
        "    self.test_if_true = int(if_true.split(\" \")[-1])\n",
        "    self.test_if_false = int(if_false.split(\" \")[-1])\n",
        "\n",
        "  def inspect_item(self, throwing_callback, with_relief=True):\n",
        "    item = self.items.pop(0)\n",
        "    new = eval(self.operation.replace(\"old\", str(item)))\n",
        "    if with_relief:\n",
        "      bored = math.floor(new / 3)\n",
        "    else:\n",
        "      bored = new\n",
        "\n",
        "    if (bored % self.test_dividable_by == 0):\n",
        "      throwing_callback(self.test_if_true, bored)\n",
        "    else:\n",
        "      throwing_callback(self.test_if_false, bored)\n",
        "\n",
        "  def play_round(self, throwing_callback, with_relief=True):\n",
        "    while len(self.items) > 0:\n",
        "      self.inspect_item(throwing_callback, with_relief)\n",
        "\n",
        "class Game:\n",
        "  def __init__(self, input, with_relief=True):\n",
        "    self.with_relief = with_relief\n",
        "    self.monkeys = []\n",
        "    for monkey in input.split(\"\\n\\n\"):\n",
        "      self.monkeys.append(Monkey(monkey))\n",
        "    self.inspected_items = [0] * len(self.monkeys)\n",
        "\n",
        "  def round(self):\n",
        "    for i in range(len(self.monkeys)):\n",
        "      self.inspected_items[i] += len(self.monkeys[i].items)\n",
        "      self.monkeys[i].play_round(self.throwing, with_relief=self.with_relief)\n",
        "\n",
        "  def modulo(self):\n",
        "    result = 1\n",
        "    for monkey in self.monkeys:\n",
        "      result *= monkey.test_dividable_by\n",
        "    return result\n",
        "\n",
        "  def throwing(self, destination, item):\n",
        "    self.monkeys[destination].items.append(item % self.modulo())\n",
        "\n",
        "  def monkey_business(self):\n",
        "    sorted_inspected_items = sorted(self.inspected_items)\n",
        "    return sorted_inspected_items[-1] * sorted_inspected_items[-2]\n",
        "\n",
        "\n"
      ]
    },
    {
      "cell_type": "code",
      "execution_count": 18,
      "metadata": {
        "colab": {
          "base_uri": "https://localhost:8080/"
        },
        "id": "LRFPME2_BUUs",
        "outputId": "7208979b-9527-4d50-ed65-d31ac51c3eca"
      },
      "outputs": [
        {
          "output_type": "stream",
          "name": "stderr",
          "text": [
            "test_full_game (__main__.TestAcceptance) ... ok\n",
            "test_full_game_without_relief (__main__.TestAcceptance) ... ok\n",
            "test_game (__main__.TestAcceptance) ... ok\n",
            "test_init_video_system (__main__.TestAcceptance) ... ok\n",
            "test_inspect_item (__main__.TestAcceptance) ... ok\n",
            "test_play_round (__main__.TestAcceptance) ... ok\n",
            "\n",
            "----------------------------------------------------------------------\n",
            "Ran 6 tests in 1.164s\n",
            "\n",
            "OK\n"
          ]
        },
        {
          "output_type": "execute_result",
          "data": {
            "text/plain": [
              "<unittest.main.TestProgram at 0x7f3837440700>"
            ]
          },
          "metadata": {},
          "execution_count": 18
        }
      ],
      "source": [
        "import unittest\n",
        "from unittest.mock import MagicMock, call\n",
        "\n",
        "example = \"\"\"Monkey 0:\n",
        "  Starting items: 79, 98\n",
        "  Operation: new = old * 19\n",
        "  Test: divisible by 23\n",
        "    If true: throw to monkey 2\n",
        "    If false: throw to monkey 3\n",
        "\n",
        "Monkey 1:\n",
        "  Starting items: 54, 65, 75, 74\n",
        "  Operation: new = old + 6\n",
        "  Test: divisible by 19\n",
        "    If true: throw to monkey 2\n",
        "    If false: throw to monkey 0\n",
        "\n",
        "Monkey 2:\n",
        "  Starting items: 79, 60, 97\n",
        "  Operation: new = old * old\n",
        "  Test: divisible by 13\n",
        "    If true: throw to monkey 1\n",
        "    If false: throw to monkey 3\n",
        "\n",
        "Monkey 3:\n",
        "  Starting items: 74\n",
        "  Operation: new = old + 3\n",
        "  Test: divisible by 17\n",
        "    If true: throw to monkey 0\n",
        "    If false: throw to monkey 1\"\"\"\n",
        "\n",
        "\n",
        "class TestAcceptance(unittest.TestCase):\n",
        "\n",
        "    def test_init_video_system(self):\n",
        "      monkey = Monkey(example.split(\"\\n\\n\")[0])\n",
        "      self.assertEqual([79, 98], monkey.items)\n",
        "      self.assertEqual(\"old * 19\", monkey.operation)\n",
        "      self.assertEqual(23, monkey.test_dividable_by)\n",
        "      self.assertEqual(2, monkey.test_if_true)\n",
        "      self.assertEqual(3, monkey.test_if_false)\n",
        "\n",
        "    def test_inspect_item(self):\n",
        "      monkey = Monkey(example.split(\"\\n\\n\")[0])\n",
        "      throwing_callback = MagicMock()\n",
        "      monkey.inspect_item(throwing_callback)\n",
        "      self.assertEqual([98], monkey.items)\n",
        "      throwing_callback.assert_called_with(3, 500)\n",
        "\n",
        "    def test_play_round(self):\n",
        "      monkey = Monkey(example.split(\"\\n\\n\")[0])\n",
        "      throwing_callback = MagicMock()\n",
        "      monkey.play_round(throwing_callback)\n",
        "      self.assertEqual([], monkey.items)\n",
        "      throwing_callback.assert_has_calls([call(3, 500), call(3, 620)])\n",
        "\n",
        "    def test_game(self):\n",
        "      game = Game(example)\n",
        "      game.round()\n",
        "      self.assertEqual([20, 23, 27, 26], game.monkeys[0].items)\n",
        "      self.assertEqual([2080, 25, 167, 207, 401, 1046], game.monkeys[1].items)\n",
        "      self.assertEqual([], game.monkeys[2].items)\n",
        "      self.assertEqual([], game.monkeys[3].items)\n",
        "\n",
        "    def test_full_game(self):\n",
        "      game = Game(example)\n",
        "      for i in range(20):\n",
        "        game.round()\n",
        "      self.assertEqual([10, 12, 14, 26, 34], game.monkeys[0].items)\n",
        "      self.assertEqual([245, 93, 53, 199, 115], game.monkeys[1].items)\n",
        "      self.assertEqual([], game.monkeys[2].items)\n",
        "      self.assertEqual([], game.monkeys[3].items)\n",
        "\n",
        "      self.assertEqual(101, game.inspected_items[0])\n",
        "      self.assertEqual(95, game.inspected_items[1])\n",
        "      self.assertEqual(7, game.inspected_items[2])\n",
        "      self.assertEqual(105, game.inspected_items[3])\n",
        "\n",
        "      self.assertEqual(10605, game.monkey_business())\n",
        "\n",
        "    def test_full_game_without_relief(self):\n",
        "      game = Game(example, with_relief=False)\n",
        "      for i in range(10000):\n",
        "        game.round()\n",
        "      self.assertEqual(52166, game.inspected_items[0])\n",
        "      self.assertEqual(47830, game.inspected_items[1])\n",
        "      self.assertEqual(1938, game.inspected_items[2])\n",
        "      self.assertEqual(52013, game.inspected_items[3])\n",
        "\n",
        "      self.assertEqual(2713310158, game.monkey_business())\n",
        "\n",
        "\n",
        "unittest.main(argv=[''], verbosity=2, exit=False)"
      ]
    },
    {
      "cell_type": "code",
      "execution_count": 19,
      "metadata": {
        "id": "5fQnCOGTc4dF"
      },
      "outputs": [],
      "source": [
        "#@title Define my input\n",
        "input = \"\"\"Monkey 0:\n",
        "  Starting items: 56, 52, 58, 96, 70, 75, 72\n",
        "  Operation: new = old * 17\n",
        "  Test: divisible by 11\n",
        "    If true: throw to monkey 2\n",
        "    If false: throw to monkey 3\n",
        "\n",
        "Monkey 1:\n",
        "  Starting items: 75, 58, 86, 80, 55, 81\n",
        "  Operation: new = old + 7\n",
        "  Test: divisible by 3\n",
        "    If true: throw to monkey 6\n",
        "    If false: throw to monkey 5\n",
        "\n",
        "Monkey 2:\n",
        "  Starting items: 73, 68, 73, 90\n",
        "  Operation: new = old * old\n",
        "  Test: divisible by 5\n",
        "    If true: throw to monkey 1\n",
        "    If false: throw to monkey 7\n",
        "\n",
        "Monkey 3:\n",
        "  Starting items: 72, 89, 55, 51, 59\n",
        "  Operation: new = old + 1\n",
        "  Test: divisible by 7\n",
        "    If true: throw to monkey 2\n",
        "    If false: throw to monkey 7\n",
        "\n",
        "Monkey 4:\n",
        "  Starting items: 76, 76, 91\n",
        "  Operation: new = old * 3\n",
        "  Test: divisible by 19\n",
        "    If true: throw to monkey 0\n",
        "    If false: throw to monkey 3\n",
        "\n",
        "Monkey 5:\n",
        "  Starting items: 88\n",
        "  Operation: new = old + 4\n",
        "  Test: divisible by 2\n",
        "    If true: throw to monkey 6\n",
        "    If false: throw to monkey 4\n",
        "\n",
        "Monkey 6:\n",
        "  Starting items: 64, 63, 56, 50, 77, 55, 55, 86\n",
        "  Operation: new = old + 8\n",
        "  Test: divisible by 13\n",
        "    If true: throw to monkey 4\n",
        "    If false: throw to monkey 0\n",
        "\n",
        "Monkey 7:\n",
        "  Starting items: 79, 58\n",
        "  Operation: new = old + 6\n",
        "  Test: divisible by 17\n",
        "    If true: throw to monkey 1\n",
        "    If false: throw to monkey 5\"\"\"\n"
      ]
    },
    {
      "cell_type": "code",
      "execution_count": 20,
      "metadata": {
        "colab": {
          "base_uri": "https://localhost:8080/"
        },
        "id": "M9hS3oIvkssG",
        "outputId": "7a11abee-bd2e-4da5-d47a-7c7039789c68"
      },
      "outputs": [
        {
          "output_type": "stream",
          "name": "stdout",
          "text": [
            "After 20 rounds, the monkey business is 98908\n",
            "Without relief, after 10000 rounds,the monkey business is 17673687232\n"
          ]
        }
      ],
      "source": [
        "game = Game(input)\n",
        "for i in range(20):\n",
        "  game.round()\n",
        "      \n",
        "print(f\"After 20 rounds, the monkey business is {game.monkey_business()}\")\n",
        "\n",
        "game = Game(input, with_relief=False)\n",
        "for i in range(10000):\n",
        "  game.round()\n",
        "print(f\"Without relief, after 10000 rounds,the monkey business is {game.monkey_business()}\")\n"
      ]
    }
  ],
  "metadata": {
    "colab": {
      "provenance": [],
      "authorship_tag": "ABX9TyOcFy6c+fQbteA/Vxh3plhM",
      "include_colab_link": true
    },
    "kernelspec": {
      "display_name": "Python 3",
      "name": "python3"
    },
    "language_info": {
      "name": "python"
    }
  },
  "nbformat": 4,
  "nbformat_minor": 0
}